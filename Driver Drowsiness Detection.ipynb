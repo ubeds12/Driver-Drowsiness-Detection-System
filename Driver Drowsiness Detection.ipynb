{
 "cells": [
  {
   "cell_type": "markdown",
   "metadata": {},
   "source": [
    "# Driver Drowsiness Detection System\n",
    "\n",
    "This code can detect your eyes and alert with an alarm when the user is drowsy."
   ]
  },
  {
   "cell_type": "markdown",
   "metadata": {},
   "source": [
    "# Application\n",
    "\n",
    "This can be used by Drivers who tend to drive for a longer period of time that may lead to accidents."
   ]
  },
  {
   "cell_type": "markdown",
   "metadata": {},
   "source": [
    "# Algorithm\n",
    "\n",
    "Here Eye Aspect ratio Algorithm is used each eye is represented by 6 (x, y)-coordinates, starting at the left-corner of the eye (as if you were looking at the person), and then working clockwise around the eye."
   ]
  },
  {
   "cell_type": "markdown",
   "metadata": {},
   "source": [
    "# Condition\n",
    "\n",
    "It will continously monitor the driver and if Eye Aspect Ratio is less than 0.25, It will alert with an alarm"
   ]
  },
  {
   "cell_type": "code",
   "execution_count": null,
   "metadata": {},
   "outputs": [],
   "source": [
    "import face_recognition\n",
    "import cv2\n",
    "import numpy as np\n",
    "import time\n",
    "import cv2\n",
    "import eye_game\n",
    "import RPi.GPIO as GPIO"
   ]
  },
  {
   "cell_type": "code",
   "execution_count": null,
   "metadata": {},
   "outputs": [],
   "source": [
    "GPIO.setmode(GPIO.BCM)\n",
    "GPIO.setwarnings(False)\n",
    "BUZZER= 23\n",
    "GPIO.setup(BUZZER, GPIO.OUT)\n",
    "previous =\"Unknown\"\n",
    "count=0"
   ]
  },
  {
   "cell_type": "code",
   "execution_count": null,
   "metadata": {},
   "outputs": [],
   "source": [
    "video_capture = cv2.VideoCapture(0)\n",
    "#frame = (video_capture, file)\n",
    "file = 'one/img.jpg'\n",
    "# Load a sample picture and learn how to recognize it.\n",
    "img_image = face_recognition.load_image_file(\"img.jpg\")\n",
    "img_face_encoding = face_recognition.face_encodings(img_image)[0]"
   ]
  },
  {
   "cell_type": "code",
   "execution_count": null,
   "metadata": {},
   "outputs": [],
   "source": [
    "# Create arrays of known face encodings and their names\n",
    "known_face_encodings = [\n",
    "    img_face_encoding   \n",
    "]\n",
    " \n",
    "known_face_names = [\n",
    "    \"Arshad\"\n",
    "]\n",
    " \n",
    "# Initialize some variables\n",
    "face_locations = []\n",
    "face_encodings = []\n",
    "face_names = []\n",
    "process_this_frame = True\n",
    "while True:\n",
    "    # Grab a single frame of video    \n",
    "    ret, frame = video_capture.read()    \n",
    "    # Resize frame of video to 1/4 size for faster face recognition processing\n",
    "    small_frame = cv2.resize(frame, (0, 0), fx=0.25, fy=0.25)   \n",
    "    # Convert the image from BGR color (which OpenCV uses) to RGB color (which face_recognition uses)\n",
    "    rgb_small_frame = small_frame[:, :, ::-1]\n",
    "    # Only process every other frame of video to save time\n",
    "    if process_this_frame:\n",
    "        # Find all the faces and face encodings in the current frame of video\n",
    "        face_locations = face_recognition.face_locations(rgb_small_frame)\n",
    "        face_encodings = face_recognition.face_encodings(rgb_small_frame, face_locations)\n",
    "        cv2.imwrite(file, small_frame)\n",
    "        face_names = []\n",
    "        for face_encoding in face_encodings:\n",
    "            # See if the face is a match for the known face(s)\n",
    "            matches = face_recognition.compare_faces(known_face_encodings, face_encoding)\n",
    "            name = \"Arshad\"           \n",
    "            face_distances = face_recognition.face_distance(known_face_encodings, face_encoding)\n",
    "            best_match_index = np.argmin(face_distances)\n",
    "            if matches[best_match_index]:\n",
    "                name = known_face_names[best_match_index]                \n",
    "                direction= eye_game.get_eyeball_direction(file)\n",
    "                print(direction)\n",
    "                #eye_game.api.get_eyeball_direction(cv_image_array)\n",
    "                if previous != direction:\n",
    "                    previous=direction                  \n",
    "                else:\n",
    "                    print(\"old same\")\n",
    "                    count=1+count\n",
    "                    print(count)\n",
    "                    if (count>=10):\n",
    "                       GPIO.output(BUZZER, GPIO.HIGH)\n",
    "                       time.sleep(5)\n",
    "                       GPIO.output(BUZZER, GPIO.LOW)\n",
    "                       print(\"Alert!! Alert!! Driver Drowsiness Detected\")\n",
    "                       cv2.putText(frame, \"DROWSINESS ALERT!\", (10, 30),\n",
    " \n",
    "cv2.FONT_HERSHEY_SIMPLEX, 0.7, (0, 0, 255), 2)\n",
    "            face_names.append(name)         \n",
    "    process_this_frame = not process_this_frame\n",
    "    # Display the results\n",
    "    for (top, right, bottom, left), name in zip(face_locations, face_names):\n",
    "        # Scale back up face locations since the frame we detected in was scaled to 1/4 size\n",
    "        top *= 4\n",
    "        right *= 4\n",
    "        bottom *= 4\n",
    "        left *= 4\n",
    "        # Draw a box around the face\n",
    "        cv2.rectangle(frame, (left, top), (right, bottom), (0, 255, 0), 2)\n",
    "        # Draw a label with a name below the face\n",
    "        cv2.rectangle(frame, (left, bottom - 35), (right, bottom), (0, 0, 255), cv2.FILLED)\n",
    "        font = cv2.FONT_HERSHEY_DUPLEX\n",
    "        cv2.putText(frame, name, (left + 6, bottom - 6), font, 1.0, (0, 0, 255), 1)\n",
    "        #cv2.putText(frame, frame_string, (left + 10, top - 10), font, 1.0, (255, 255, 255), 1)\n",
    "    # Display the resulting image\n",
    "    cv2.imshow('video', frame)\n",
    "    # Hit 'q' on the keyboard to quit!\n",
    "    if cv2.waitKey(1) & 0xFF == ord('q'):\n",
    "        break\n",
    "# Release handle to the webcam\n",
    "video_capture.release()\n",
    "cv2.destroyAllWindows()"
   ]
  }
 ],
 "metadata": {
  "kernelspec": {
   "display_name": "Python 3",
   "language": "python",
   "name": "python3"
  },
  "language_info": {
   "codemirror_mode": {
    "name": "ipython",
    "version": 3
   },
   "file_extension": ".py",
   "mimetype": "text/x-python",
   "name": "python",
   "nbconvert_exporter": "python",
   "pygments_lexer": "ipython3",
   "version": "3.6.8"
  }
 },
 "nbformat": 4,
 "nbformat_minor": 4
}
